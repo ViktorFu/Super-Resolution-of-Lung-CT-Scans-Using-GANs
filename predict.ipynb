{
 "cells": [
  {
   "cell_type": "code",
   "execution_count": null,
   "id": "f9949785",
   "metadata": {},
   "outputs": [
    {
     "name": "stdout",
     "output_type": "stream",
     "text": [
      "model_data/Generator_SRGAN.pth model, and classes loaded.\n"
     ]
    }
   ],
   "source": [
    "#--------------------------------------------------------------#\n",
    "#   对单张图片进行预测，运行结果保存在根目录\n",
    "#   默认保存文件为results/predict_out/predict_srgan.png\n",
    "#--------------------------------------------------------------#\n",
    "from PIL import Image\n",
    "\n",
    "from srgan import SRGAN\n",
    "\n",
    "if __name__ == \"__main__\":\n",
    "    srgan = SRGAN()\n",
    "    #----------------------------#\n",
    "    #   单张图片的保存路径\n",
    "    #----------------------------#\n",
    "    save_path_1x1 = \"results/predict_out/乳腺测试结果/1.png\"\n",
    "\n",
    "    while True:\n",
    "        img = input('Input image filename:')\n",
    "        try:\n",
    "            image = Image.open(img)\n",
    "        except:\n",
    "            print('Open Error! Try again!')\n",
    "            continue\n",
    "        else:\n",
    "            r_image = srgan.generate_1x1_image(image)\n",
    "            r_image.save(save_path_1x1)\n",
    "            r_image.show()\n",
    "#_resulte_x4\n"
   ]
  },
  {
   "cell_type": "code",
   "execution_count": null,
   "id": "becf7db0",
   "metadata": {},
   "outputs": [],
   "source": [
    "zhangzhijianimage_resulte_x4"
   ]
  }
 ],
 "metadata": {
  "kernelspec": {
   "display_name": "Python 3 (ipykernel)",
   "language": "python",
   "name": "python3"
  },
  "language_info": {
   "codemirror_mode": {
    "name": "ipython",
    "version": 3
   },
   "file_extension": ".py",
   "mimetype": "text/x-python",
   "name": "python",
   "nbconvert_exporter": "python",
   "pygments_lexer": "ipython3",
   "version": "3.9.7"
  }
 },
 "nbformat": 4,
 "nbformat_minor": 5
}
